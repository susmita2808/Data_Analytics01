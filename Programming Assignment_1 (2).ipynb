{
 "cells": [
  {
   "cell_type": "markdown",
   "id": "637b47a5",
   "metadata": {},
   "source": [
    "## Programming Assignment_1\n",
    "-------------"
   ]
  },
  {
   "cell_type": "markdown",
   "id": "0c647dbe",
   "metadata": {},
   "source": [
    "### 1. Write a Python program to print \"Hello Python\"?"
   ]
  },
  {
   "cell_type": "markdown",
   "id": "ce835749-f724-43cf-824f-62ae2cf1d08b",
   "metadata": {},
   "source": [
    "print(\"Hello Python\")"
   ]
  },
  {
   "cell_type": "markdown",
   "id": "fc18a6cd",
   "metadata": {},
   "source": [
    "### 2. Write a Python program to do arithmetical operations addition and division.?\n"
   ]
  },
  {
   "cell_type": "markdown",
   "id": "5c119ef6-a068-4742-95d6-5989b9db2ec5",
   "metadata": {},
   "source": [
    "a = int(input(\"Enter 1st num \"))\r\n",
    "b = int(input(\"Enter 2nd num \"))\r\n",
    "\r\n",
    "add = a+b \r\n",
    "div = a/b\r\n",
    "\r\n",
    "print(\"addition\" ,  add) \r\n",
    "print(\"Division\", div)"
   ]
  },
  {
   "cell_type": "markdown",
   "id": "af6e2429",
   "metadata": {},
   "source": [
    "### 3. Write a Python program to find the area of a triangle?\n"
   ]
  },
  {
   "cell_type": "markdown",
   "id": "7e1c5c7a-f048-4a84-b92d-8f237a976ca2",
   "metadata": {},
   "source": [
    "a = int(input(\"Enter base : \"))\n",
    "b = int(input(\"Enter height : \"))\n",
    "\n",
    "area = 1/2*a*b\n",
    "\n",
    "print(\"Area of triangle :\" ,  area) \n"
   ]
  },
  {
   "cell_type": "markdown",
   "id": "b8140061",
   "metadata": {},
   "source": [
    "### 4. Write a Python program to swap two variables?\n"
   ]
  },
  {
   "cell_type": "markdown",
   "id": "241ac540-b595-47ec-92a1-2317c7408381",
   "metadata": {},
   "source": [
    "a = int(input(\"Enter a value : \"))\n",
    "b = int(input(\"Enter b value : \"))\n",
    "\n",
    "c = b\n",
    "b = a\n",
    "a = c\n",
    "\n",
    "print(\"after swapping ..\")\n",
    "print(\"Value of a :\" , a)\n",
    "print(\"Value of b :\" , b)\n"
   ]
  },
  {
   "cell_type": "markdown",
   "id": "3f8054c1",
   "metadata": {},
   "source": [
    "### 5. Write a Python program to generate a random number?\n"
   ]
  },
  {
   "cell_type": "markdown",
   "id": "d6232587-c231-4586-a8c7-7e9b4e43f331",
   "metadata": {},
   "source": [
    "import random\n",
    "num = random.random()\n",
    "print (num)\n",
    "\n"
   ]
  },
  {
   "cell_type": "code",
   "execution_count": null,
   "id": "63943882-ff54-42c8-9422-94d6e2fe4848",
   "metadata": {},
   "outputs": [],
   "source": []
  }
 ],
 "metadata": {
  "kernelspec": {
   "display_name": "Python 3 (ipykernel)",
   "language": "python",
   "name": "python3"
  },
  "language_info": {
   "codemirror_mode": {
    "name": "ipython",
    "version": 3
   },
   "file_extension": ".py",
   "mimetype": "text/x-python",
   "name": "python",
   "nbconvert_exporter": "python",
   "pygments_lexer": "ipython3",
   "version": "3.12.2"
  }
 },
 "nbformat": 4,
 "nbformat_minor": 5
}
