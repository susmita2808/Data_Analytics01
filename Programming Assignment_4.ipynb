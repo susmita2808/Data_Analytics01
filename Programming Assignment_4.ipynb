{
 "cells": [
  {
   "cell_type": "markdown",
   "id": "20cb4340",
   "metadata": {
    "id": "20cb4340"
   },
   "source": [
    "## Programming Assignment_4\n",
    "----------------"
   ]
  },
  {
   "cell_type": "markdown",
   "id": "4fdb6695",
   "metadata": {
    "id": "4fdb6695"
   },
   "source": [
    "### 1. Write a Python Program to Find the Factorial of a Number?"
   ]
  },
  {
   "cell_type": "markdown",
   "id": "f508fda1-2ea4-42c5-b59a-1e6d8147c9f2",
   "metadata": {
    "id": "hOeAnUwS8YPP"
   },
   "source": [
    "num = int(input(\"Enter number: \"))\n",
    "\n",
    "fact =1\n",
    "for i in range(num):\n",
    "    fact =fact+fact*i\n",
    "print(\"factorial of the number is \", fact)"
   ]
  },
  {
   "cell_type": "markdown",
   "id": "e6beef62",
   "metadata": {
    "id": "e6beef62"
   },
   "source": [
    "### 2. Write a Python Program to Display the multiplication Table?"
   ]
  },
  {
   "cell_type": "markdown",
   "id": "89690a89-976a-4703-a0a5-8bf56464939b",
   "metadata": {
    "id": "KRlnRPqETMOx"
   },
   "source": [
    "num = int(input(\"Enter number: \"))\n",
    "\n",
    "for i in range(1,11):\n",
    "    print(num , \"* \",1 ,\"=\", num *i)"
   ]
  },
  {
   "cell_type": "markdown",
   "id": "7de7eba5",
   "metadata": {
    "id": "7de7eba5"
   },
   "source": [
    "### 3. Write a Python Program to Print the Fibonacci sequence?\n"
   ]
  },
  {
   "cell_type": "markdown",
   "id": "9aaecab7-2b31-4d87-865a-86a026d233eb",
   "metadata": {},
   "source": [
    "num = int(input(\"Enter number: \"))\n",
    "x = 0\n",
    "y = 1\n",
    "\n",
    "\n",
    "print(x)\n",
    "print(y)\n",
    "for i in range(num):\n",
    "    final = x + y\n",
    "    print(final)\n",
    "    x = y\n",
    "    y = final"
   ]
  },
  {
   "cell_type": "markdown",
   "id": "0446442e",
   "metadata": {
    "id": "0446442e"
   },
   "source": [
    "### 4. Write a Python Program to Check Armstrong Number?"
   ]
  },
  {
   "cell_type": "markdown",
   "id": "f6a581b4-34a3-4f74-8674-8bf4ecbf2220",
   "metadata": {},
   "source": [
    "num = int(input(\"Enter number: \"))\n",
    "\n",
    "temp = num\n",
    "sum=0\n",
    "while (num>0):\n",
    "    rem = num%10\n",
    "    sum = sum + (rem*rem*rem)\n",
    "    num = num//10\n",
    "if(temp == sum):\n",
    "    print(\"its a armstrong number \")\n",
    "else :\n",
    "    print(\"Not a armstrong number\")"
   ]
  },
  {
   "cell_type": "markdown",
   "id": "a6f9adfe",
   "metadata": {
    "id": "a6f9adfe"
   },
   "source": [
    "### 5. Write a Python Program to Find Armstrong Number in an Interval?"
   ]
  },
  {
   "cell_type": "markdown",
   "id": "50e14f00-5372-4522-90e8-0ea4bd2ee29a",
   "metadata": {},
   "source": [
    "lower = int(input(\"Enter lower number: \"))\n",
    "upper = int(input(\"Enter upper number: \"))\n",
    "\n",
    "\n",
    "for num in range(lower,upper+1):\n",
    "    sum =0\n",
    "    temp = num\n",
    "    while (num>0):\n",
    "        rem = num%10\n",
    "        sum = sum + (rem*rem*rem)\n",
    "        num = num//10\n",
    "    if(temp == sum):\n",
    "        print(\"its a armstrong number : \", temp)"
   ]
  },
  {
   "cell_type": "markdown",
   "id": "qbmbp0_822o1",
   "metadata": {
    "id": "qbmbp0_822o1"
   },
   "source": []
  },
  {
   "cell_type": "markdown",
   "id": "157cad60",
   "metadata": {
    "id": "157cad60"
   },
   "source": [
    "### 6. Write a Python Program to Find the Sum of Natural Numbers?"
   ]
  },
  {
   "cell_type": "markdown",
   "id": "0ba7a9dc-8b8a-4e96-b4a1-46fa57b247e1",
   "metadata": {},
   "source": [
    "num = int(input(\"Enter a number: \"))\n",
    "\n",
    "sum = 0\n",
    "if(num ==0 or num <0):\n",
    "    print(\"please enter a number whc=ich is greatre than zero\")\n",
    "else:\n",
    "    while (num>0):\n",
    "        sum = sum+num\n",
    "        num =  num -1\n",
    "    print(sum)"
   ]
  }
 ],
 "metadata": {
  "colab": {
   "provenance": []
  },
  "kernelspec": {
   "display_name": "Python 3 (ipykernel)",
   "language": "python",
   "name": "python3"
  },
  "language_info": {
   "codemirror_mode": {
    "name": "ipython",
    "version": 3
   },
   "file_extension": ".py",
   "mimetype": "text/x-python",
   "name": "python",
   "nbconvert_exporter": "python",
   "pygments_lexer": "ipython3",
   "version": "3.12.2"
  }
 },
 "nbformat": 4,
 "nbformat_minor": 5
}
