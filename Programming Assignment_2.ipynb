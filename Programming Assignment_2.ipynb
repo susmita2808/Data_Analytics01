{
 "cells": [
  {
   "cell_type": "markdown",
   "id": "08c66ea5",
   "metadata": {
    "id": "08c66ea5"
   },
   "source": [
    "## Programming Assignment_2\n",
    "-------------"
   ]
  },
  {
   "cell_type": "markdown",
   "id": "4e50cf42",
   "metadata": {
    "id": "4e50cf42"
   },
   "source": [
    "1. Write a Python program to convert kilometers to miles?\n"
   ]
  },
  {
   "cell_type": "markdown",
   "id": "3e10cdc7-34b8-446c-9337-207527b356a7",
   "metadata": {},
   "source": [
    "num = int(input(\"Enter distance in kilometers \"))\n",
    "print(\"Distance in miles\",+num * 0.621371)"
   ]
  },
  {
   "cell_type": "markdown",
   "id": "0df4e6bf",
   "metadata": {
    "id": "0df4e6bf"
   },
   "source": [
    "### 2.Write a Python program to convert Celsius to Fahrenheit?"
   ]
  },
  {
   "cell_type": "markdown",
   "id": "Q-iUx4CQoppc",
   "metadata": {
    "id": "Q-iUx4CQoppc"
   },
   "source": [
    "celsius = int(input(\"Enter Temperature in celsius \"))\n",
    "print(\"Temperature in farenheit\",+ (celsius * 9/5) + 32)"
   ]
  },
  {
   "cell_type": "markdown",
   "id": "46129b8e",
   "metadata": {
    "id": "46129b8e"
   },
   "source": [
    "3. Write a Python program to display calendar?\n"
   ]
  },
  {
   "cell_type": "markdown",
   "id": "47e2e99d-c7b9-402c-a371-0187b686d597",
   "metadata": {},
   "source": [
    "import calendar\n",
    "year = int(input(\"Enter year \"))\n",
    "month = int(input(\"Enter month \"))\n",
    "print(calendar.month(year, month))"
   ]
  },
  {
   "cell_type": "markdown",
   "id": "db2bf0f7",
   "metadata": {
    "id": "db2bf0f7"
   },
   "source": [
    "### 4. Write a Python program to solve quadratic equation?"
   ]
  },
  {
   "cell_type": "markdown",
   "id": "23ed3de4-5b6a-479c-b97e-e9deb36ac5f4",
   "metadata": {},
   "source": [
    "import math\n",
    "a = int(input(\"Enter value for a :\"))\n",
    "b = int(input(\"Enter value for b :\"))\n",
    "c = int(input(\"Enter value for c :\"))\n",
    "\n",
    "y = math.sqrt(b*b - 4*a*c)\n",
    "\n",
    "x1 = (-b + y)/2*a\n",
    "x2 = (-b - y)/2*a\n",
    "\n",
    "print(\"x1: \",x1)\n",
    "print(\"x2: \",x2)"
   ]
  },
  {
   "cell_type": "markdown",
   "id": "f70f74c9",
   "metadata": {
    "id": "f70f74c9"
   },
   "source": [
    "5. Write a Python program to swap two variables without temp variable?"
   ]
  },
  {
   "cell_type": "markdown",
   "id": "8275b6a1-930e-4a9a-b030-3f01a26090de",
   "metadata": {},
   "source": [
    "a = int(input(\"Enter value for a :\"))\n",
    "b = int(input(\"Enter value for b :\"))\n",
    "\n",
    "a = a+b\n",
    "b = a-b\n",
    "a = a-b\n",
    "\n",
    "print(\"a:\",a)\n",
    "print(\"b:\",b)"
   ]
  }
 ],
 "metadata": {
  "colab": {
   "provenance": []
  },
  "kernelspec": {
   "display_name": "Python 3 (ipykernel)",
   "language": "python",
   "name": "python3"
  },
  "language_info": {
   "codemirror_mode": {
    "name": "ipython",
    "version": 3
   },
   "file_extension": ".py",
   "mimetype": "text/x-python",
   "name": "python",
   "nbconvert_exporter": "python",
   "pygments_lexer": "ipython3",
   "version": "3.12.2"
  }
 },
 "nbformat": 4,
 "nbformat_minor": 5
}
