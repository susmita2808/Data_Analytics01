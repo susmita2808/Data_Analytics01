{
 "cells": [
  {
   "cell_type": "markdown",
   "id": "ad3c798a",
   "metadata": {
    "id": "ad3c798a"
   },
   "source": [
    "## Programming Assignment_3\n",
    "----------------"
   ]
  },
  {
   "cell_type": "markdown",
   "id": "fdeb4706",
   "metadata": {
    "id": "fdeb4706"
   },
   "source": [
    "### 1. Write a Python Program to Check if a Number is Positive, Negative or Zero?"
   ]
  },
  {
   "cell_type": "markdown",
   "id": "3633a535-8deb-42a4-8ad0-36dd0bd8c474",
   "metadata": {},
   "source": [
    "num = int(input(\"Enter value for num : \"))\n",
    "\n",
    "if(num > 0):\n",
    "    print(\"number is positive\")\n",
    "elif(num <0):\n",
    "    print(\"number is negative\")\n",
    "else:\n",
    "    print(\"number is zero\")"
   ]
  },
  {
   "cell_type": "markdown",
   "id": "086bfded",
   "metadata": {
    "id": "086bfded"
   },
   "source": [
    "### 2. Write a Python Program to Check if a Number is Odd or Even?\n"
   ]
  },
  {
   "cell_type": "markdown",
   "id": "7c90f7b5-8a04-466e-ab6e-def2dce4830b",
   "metadata": {},
   "source": [
    "num = int(input(\"Enter value for num :\"))\n",
    "\n",
    "if(num%2 == 0):\n",
    "    print(\"number is even\")\n",
    "else:\n",
    "    print(\"number is odd\")"
   ]
  },
  {
   "cell_type": "markdown",
   "id": "575e4f94",
   "metadata": {
    "id": "575e4f94"
   },
   "source": [
    "### 3. Write a Python Program to Check Leap Year?\n"
   ]
  },
  {
   "cell_type": "markdown",
   "id": "2e7559a7-3170-4706-b979-41f788fc2635",
   "metadata": {},
   "source": [
    "year = int(input(\"Enter value for year :\"))\n",
    "\n",
    "if((year%4 ==0) and (year%400 ==0 or year%100 !=0)):\n",
    "     print(\"year is leap-year\")\n",
    "else:\n",
    "     print(\"year is not a leap-year\")"
   ]
  },
  {
   "cell_type": "markdown",
   "id": "aa83ce63",
   "metadata": {
    "id": "aa83ce63"
   },
   "source": [
    "### 4. Write a Python Program to Check Prime Number?"
   ]
  },
  {
   "cell_type": "markdown",
   "id": "586b4a84-80d1-4bcd-83f1-cf39ad70ffe4",
   "metadata": {},
   "source": [
    "num = int(input(\"Enter value for num :\"))\n",
    "\n",
    "flag =0\n",
    "\n",
    "if(num >1):\n",
    "    for i in range (2, int(num/2)+1):\n",
    "        if(num % i )==0 :\n",
    "            flag = 1\n",
    "            break\n",
    "    if(flag==1):\n",
    "        print (\"Its not a prime no :\", num)\n",
    "    else :\n",
    "        print(\"Its a prime no: \",num)\n",
    "else:\n",
    "    print(\"Its not a prime noa :\", num)\n",
    "        "
   ]
  },
  {
   "cell_type": "markdown",
   "id": "b44b54ff",
   "metadata": {
    "id": "b44b54ff"
   },
   "source": [
    "### 5. Write a Python Program to Print all Prime Numbers in an Interval of 1-10000?"
   ]
  },
  {
   "cell_type": "markdown",
   "id": "40cb04eb-2c26-4c23-baf6-1b4bba026785",
   "metadata": {},
   "source": [
    "flag =0\n",
    "x=2\n",
    "y=10000\n",
    "primeList = []\n",
    "\n",
    "for i in range(x,y):\n",
    "    for j in range(2, int(i/2)+1):\n",
    "        if(i % j )==0:\n",
    "            flag = 1\n",
    "            break\n",
    "    else :   \n",
    "        primeList.append(i)\n",
    "print(\"Prime numbers are :\",primeList)"
   ]
  }
 ],
 "metadata": {
  "colab": {
   "provenance": []
  },
  "kernelspec": {
   "display_name": "Python 3 (ipykernel)",
   "language": "python",
   "name": "python3"
  },
  "language_info": {
   "codemirror_mode": {
    "name": "ipython",
    "version": 3
   },
   "file_extension": ".py",
   "mimetype": "text/x-python",
   "name": "python",
   "nbconvert_exporter": "python",
   "pygments_lexer": "ipython3",
   "version": "3.12.2"
  }
 },
 "nbformat": 4,
 "nbformat_minor": 5
}
